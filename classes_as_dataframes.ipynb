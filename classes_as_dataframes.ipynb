{
 "cells": [
  {
   "cell_type": "code",
   "execution_count": 1,
   "metadata": {},
   "outputs": [],
   "source": [
    "# from https://learn1.open.ac.uk/mod/oublog/viewpost.php?post=181612\n",
    "import numpy as np"
   ]
  },
  {
   "cell_type": "code",
   "execution_count": 2,
   "metadata": {},
   "outputs": [
    {
     "data": {
      "text/plain": [
       "array([[1, 2, 3],\n",
       "       [4, 5, 6],\n",
       "       [7, 8, 9]])"
      ]
     },
     "execution_count": 2,
     "metadata": {},
     "output_type": "execute_result"
    }
   ],
   "source": [
    "array = np.array([[1, 2, 3,], [4, 5, 6], [7, 8, 9]])\n",
    "array"
   ]
  },
  {
   "cell_type": "code",
   "execution_count": 3,
   "metadata": {},
   "outputs": [
    {
     "data": {
      "text/html": [
       "<div>\n",
       "<style scoped>\n",
       "    .dataframe tbody tr th:only-of-type {\n",
       "        vertical-align: middle;\n",
       "    }\n",
       "\n",
       "    .dataframe tbody tr th {\n",
       "        vertical-align: top;\n",
       "    }\n",
       "\n",
       "    .dataframe thead th {\n",
       "        text-align: right;\n",
       "    }\n",
       "</style>\n",
       "<table border=\"1\" class=\"dataframe\">\n",
       "  <thead>\n",
       "    <tr style=\"text-align: right;\">\n",
       "      <th></th>\n",
       "      <th>col1</th>\n",
       "      <th>col2</th>\n",
       "      <th>col3</th>\n",
       "    </tr>\n",
       "  </thead>\n",
       "  <tbody>\n",
       "    <tr>\n",
       "      <th>0</th>\n",
       "      <td>1</td>\n",
       "      <td>2</td>\n",
       "      <td>3</td>\n",
       "    </tr>\n",
       "    <tr>\n",
       "      <th>1</th>\n",
       "      <td>4</td>\n",
       "      <td>5</td>\n",
       "      <td>6</td>\n",
       "    </tr>\n",
       "    <tr>\n",
       "      <th>2</th>\n",
       "      <td>7</td>\n",
       "      <td>8</td>\n",
       "      <td>9</td>\n",
       "    </tr>\n",
       "  </tbody>\n",
       "</table>\n",
       "</div>"
      ],
      "text/plain": [
       "   col1  col2  col3\n",
       "0     1     2     3\n",
       "1     4     5     6\n",
       "2     7     8     9"
      ]
     },
     "execution_count": 3,
     "metadata": {},
     "output_type": "execute_result"
    }
   ],
   "source": [
    "import pandas as pd\n",
    "df = pd.DataFrame(array, columns = ['col1', 'col2', 'col3'])\n",
    "df"
   ]
  },
  {
   "cell_type": "code",
   "execution_count": 4,
   "metadata": {},
   "outputs": [],
   "source": [
    "import pandas as pd\n",
    "\n",
    "class person:\n",
    "    def __init__(self, name, age, notes):\n",
    "        self.name = name\n",
    "        self.age = age\n",
    "        self.notes = notes\n",
    "    \n",
    "    # __iter__() acts like a list\n",
    "    def __iter__(self):\n",
    "        yield self\n",
    "        yield self.name\n",
    "        yield self.age\n",
    "        yield self.notes\n",
    "        \n",
    "    def __str__(self):\n",
    "        return 'Person: ' + self.name\n",
    "    \n",
    "    def hello(self):\n",
    "        return \"Hello! I'm \" + self.name + '. ' + self.notes\n",
    "    \n",
    "    @classmethod\n",
    "    def columns(cls):\n",
    "        return ['Items', 'name', 'age', 'notes']\n",
    "\n",
    "class struct:\n",
    "    def __init__(self):\n",
    "        self.facet = {}\n",
    "        \n",
    "    def add_to_facet(self, item):\n",
    "        self.facet[item.name] = item\n",
    "    \n",
    "    @property\n",
    "    def items(self):\n",
    "        return pd.DataFrame(list(self.facet.values()), columns=person.columns())"
   ]
  },
  {
   "cell_type": "code",
   "execution_count": 5,
   "metadata": {
    "scrolled": true
   },
   "outputs": [
    {
     "name": "stdout",
     "output_type": "stream",
     "text": [
      "          Items  name  age                                              notes\n",
      "0   Person: Jim   Jim   42  The time has come for all good men to come to ...\n",
      "1  Person: Jane  Jane   24              She sells sea shells on the sea shore\n",
      "2  Person: Jill  Jill   17        The quick brown fox jumps over the lazy dog\n"
     ]
    }
   ],
   "source": [
    "people = struct()\n",
    "people.add_to_facet(person('Jim', 42, 'The time has come for all good men to come to the aid of the party'))\n",
    "people.add_to_facet(person('Jane', 24, 'She sells sea shells on the sea shore'))\n",
    "people.add_to_facet(person('Jill', 17, 'The quick brown fox jumps over the lazy dog'))\n",
    "print(people.items)"
   ]
  },
  {
   "cell_type": "code",
   "execution_count": 6,
   "metadata": {},
   "outputs": [
    {
     "data": {
      "text/html": [
       "<div>\n",
       "<style scoped>\n",
       "    .dataframe tbody tr th:only-of-type {\n",
       "        vertical-align: middle;\n",
       "    }\n",
       "\n",
       "    .dataframe tbody tr th {\n",
       "        vertical-align: top;\n",
       "    }\n",
       "\n",
       "    .dataframe thead th {\n",
       "        text-align: right;\n",
       "    }\n",
       "</style>\n",
       "<table border=\"1\" class=\"dataframe\">\n",
       "  <thead>\n",
       "    <tr style=\"text-align: right;\">\n",
       "      <th></th>\n",
       "      <th>Items</th>\n",
       "      <th>name</th>\n",
       "      <th>age</th>\n",
       "      <th>notes</th>\n",
       "    </tr>\n",
       "  </thead>\n",
       "  <tbody>\n",
       "    <tr>\n",
       "      <th>0</th>\n",
       "      <td>Person: Jim</td>\n",
       "      <td>Jim</td>\n",
       "      <td>42</td>\n",
       "      <td>The time has come for all good men to come to ...</td>\n",
       "    </tr>\n",
       "    <tr>\n",
       "      <th>1</th>\n",
       "      <td>Person: Jane</td>\n",
       "      <td>Jane</td>\n",
       "      <td>24</td>\n",
       "      <td>She sells sea shells on the sea shore</td>\n",
       "    </tr>\n",
       "    <tr>\n",
       "      <th>2</th>\n",
       "      <td>Person: Jill</td>\n",
       "      <td>Jill</td>\n",
       "      <td>17</td>\n",
       "      <td>The quick brown fox jumps over the lazy dog</td>\n",
       "    </tr>\n",
       "  </tbody>\n",
       "</table>\n",
       "</div>"
      ],
      "text/plain": [
       "          Items  name  age                                              notes\n",
       "0   Person: Jim   Jim   42  The time has come for all good men to come to ...\n",
       "1  Person: Jane  Jane   24              She sells sea shells on the sea shore\n",
       "2  Person: Jill  Jill   17        The quick brown fox jumps over the lazy dog"
      ]
     },
     "execution_count": 6,
     "metadata": {},
     "output_type": "execute_result"
    }
   ],
   "source": [
    "people.items"
   ]
  },
  {
   "cell_type": "code",
   "execution_count": 7,
   "metadata": {},
   "outputs": [
    {
     "name": "stdout",
     "output_type": "stream",
     "text": [
      "Hello! I'm Jim. The time has come for all good men to come to the aid of the party\n"
     ]
    }
   ],
   "source": [
    "df = people.items\n",
    "obj = df.Items[0]\n",
    "print(obj.hello())"
   ]
  },
  {
   "cell_type": "code",
   "execution_count": 8,
   "metadata": {},
   "outputs": [
    {
     "data": {
      "text/html": [
       "<div>\n",
       "<style scoped>\n",
       "    .dataframe tbody tr th:only-of-type {\n",
       "        vertical-align: middle;\n",
       "    }\n",
       "\n",
       "    .dataframe tbody tr th {\n",
       "        vertical-align: top;\n",
       "    }\n",
       "\n",
       "    .dataframe thead th {\n",
       "        text-align: right;\n",
       "    }\n",
       "</style>\n",
       "<table border=\"1\" class=\"dataframe\">\n",
       "  <thead>\n",
       "    <tr style=\"text-align: right;\">\n",
       "      <th></th>\n",
       "      <th>name</th>\n",
       "      <th>age</th>\n",
       "      <th>phone</th>\n",
       "      <th>service</th>\n",
       "      <th>state</th>\n",
       "      <th>contract_year</th>\n",
       "    </tr>\n",
       "  </thead>\n",
       "  <tbody>\n",
       "    <tr>\n",
       "      <th>0</th>\n",
       "      <td>Jane</td>\n",
       "      <td>25</td>\n",
       "      <td>android</td>\n",
       "      <td>att</td>\n",
       "      <td>ca</td>\n",
       "      <td>2010</td>\n",
       "    </tr>\n",
       "    <tr>\n",
       "      <th>1</th>\n",
       "      <td>Jack</td>\n",
       "      <td>31</td>\n",
       "      <td>ios</td>\n",
       "      <td>ver</td>\n",
       "      <td>ca</td>\n",
       "      <td>2016</td>\n",
       "    </tr>\n",
       "    <tr>\n",
       "      <th>2</th>\n",
       "      <td>Kelly</td>\n",
       "      <td>21</td>\n",
       "      <td>ios</td>\n",
       "      <td>att</td>\n",
       "      <td>ca</td>\n",
       "      <td>2012</td>\n",
       "    </tr>\n",
       "    <tr>\n",
       "      <th>3</th>\n",
       "      <td>Samuel</td>\n",
       "      <td>19</td>\n",
       "      <td>ios</td>\n",
       "      <td>att</td>\n",
       "      <td>wa</td>\n",
       "      <td>2017</td>\n",
       "    </tr>\n",
       "    <tr>\n",
       "      <th>4</th>\n",
       "      <td>Happy</td>\n",
       "      <td>29</td>\n",
       "      <td>android</td>\n",
       "      <td>ver</td>\n",
       "      <td>wa</td>\n",
       "      <td>2009</td>\n",
       "    </tr>\n",
       "    <tr>\n",
       "      <th>5</th>\n",
       "      <td>Brian</td>\n",
       "      <td>43</td>\n",
       "      <td>ios</td>\n",
       "      <td>att</td>\n",
       "      <td>wa</td>\n",
       "      <td>2018</td>\n",
       "    </tr>\n",
       "  </tbody>\n",
       "</table>\n",
       "</div>"
      ],
      "text/plain": [
       "     name  age    phone service state  contract_year\n",
       "0    Jane   25  android     att    ca           2010\n",
       "1    Jack   31      ios     ver    ca           2016\n",
       "2   Kelly   21      ios     att    ca           2012\n",
       "3  Samuel   19      ios     att    wa           2017\n",
       "4   Happy   29  android     ver    wa           2009\n",
       "5   Brian   43      ios     att    wa           2018"
      ]
     },
     "execution_count": 8,
     "metadata": {},
     "output_type": "execute_result"
    }
   ],
   "source": [
    "df_dict = {'name':['Jane', 'Jack', 'Kelly', 'Samuel', 'Happy', 'Brian']\n",
    "           , 'age': [25, 31, 21, 19, 29, 43]\n",
    "           , 'phone': ['android', 'ios', 'ios', 'ios', 'android', 'ios']\n",
    "           , 'service': ['att', 'ver', 'att', 'att', 'ver', 'att']\n",
    "           , 'state': ['ca', 'ca', 'ca', 'wa', 'wa', 'wa']\n",
    "           , 'contract_year': [2010, 2016, 2012, 2017, 2009, 2018]\n",
    "          }\n",
    "phone_df = pd.DataFrame(df_dict)\n",
    "phone_df"
   ]
  },
  {
   "cell_type": "code",
   "execution_count": null,
   "metadata": {},
   "outputs": [],
   "source": []
  }
 ],
 "metadata": {
  "kernelspec": {
   "display_name": "Python 3",
   "language": "python",
   "name": "python3"
  },
  "language_info": {
   "codemirror_mode": {
    "name": "ipython",
    "version": 3
   },
   "file_extension": ".py",
   "mimetype": "text/x-python",
   "name": "python",
   "nbconvert_exporter": "python",
   "pygments_lexer": "ipython3",
   "version": "3.8.5"
  }
 },
 "nbformat": 4,
 "nbformat_minor": 4
}
